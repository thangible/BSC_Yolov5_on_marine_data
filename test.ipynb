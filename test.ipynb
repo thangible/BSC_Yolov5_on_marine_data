{
 "cells": [
  {
   "cell_type": "code",
   "execution_count": 2,
   "metadata": {},
   "outputs": [
    {
     "ename": "ModuleNotFoundError",
     "evalue": "No module named 'albumentations'",
     "output_type": "error",
     "traceback": [
      "\u001b[0;31m---------------------------------------------------------------------------\u001b[0m",
      "\u001b[0;31mModuleNotFoundError\u001b[0m                       Traceback (most recent call last)",
      "\u001b[0;32m/tmp/ipykernel_67720/3643306052.py\u001b[0m in \u001b[0;36m<module>\u001b[0;34m\u001b[0m\n\u001b[0;32m----> 1\u001b[0;31m \u001b[0;32mimport\u001b[0m \u001b[0malbumentations\u001b[0m\u001b[0;34m\u001b[0m\u001b[0;34m\u001b[0m\u001b[0m\n\u001b[0m\u001b[1;32m      2\u001b[0m \u001b[0;32mimport\u001b[0m \u001b[0mpathlib\u001b[0m\u001b[0;34m\u001b[0m\u001b[0;34m\u001b[0m\u001b[0m\n\u001b[1;32m      3\u001b[0m \u001b[0;32mfrom\u001b[0m \u001b[0mskimage\u001b[0m\u001b[0;34m.\u001b[0m\u001b[0mmeasure\u001b[0m \u001b[0;32mimport\u001b[0m \u001b[0mregionprops\u001b[0m\u001b[0;34m,\u001b[0m \u001b[0mregionprops_table\u001b[0m\u001b[0;34m,\u001b[0m\u001b[0mfind_contours\u001b[0m\u001b[0;34m\u001b[0m\u001b[0;34m\u001b[0m\u001b[0m\n\u001b[1;32m      4\u001b[0m \u001b[0;32mfrom\u001b[0m \u001b[0mskimage\u001b[0m\u001b[0;34m.\u001b[0m\u001b[0mmeasure\u001b[0m \u001b[0;32mimport\u001b[0m \u001b[0mlabel\u001b[0m \u001b[0;32mas\u001b[0m \u001b[0mskinmage_label\u001b[0m\u001b[0;34m\u001b[0m\u001b[0;34m\u001b[0m\u001b[0m\n\u001b[1;32m      5\u001b[0m \u001b[0;32mfrom\u001b[0m \u001b[0mskimage\u001b[0m\u001b[0;34m.\u001b[0m\u001b[0mio\u001b[0m \u001b[0;32mimport\u001b[0m \u001b[0mimread\u001b[0m\u001b[0;34m\u001b[0m\u001b[0;34m\u001b[0m\u001b[0m\n",
      "\u001b[0;31mModuleNotFoundError\u001b[0m: No module named 'albumentations'"
     ]
    }
   ],
   "source": [
    "import albumentations as A\n",
    "import pathlib\n",
    "from skimage.measure import regionprops, regionprops_table,find_contours\n",
    "from skimage.measure import label as skinmage_label\n",
    "from skimage.io import imread\n",
    "import shutil\n",
    "import pandas as pd\n",
    "from sklearn import preprocessing\n",
    "import numpy as np\n",
    "\n",
    "def create_augmented_images(augmentation, olddir, newdir, name, maskdir, data_info_path):\n",
    "    #create an empty director of new path with image/ train and image/test\n",
    "    newtrain = pathlib.Path(newdir, 'train')\n",
    "    newtest = pathlib.Path(newdir, 'train')\n",
    "    odltrain = pathlib.Path(olddir, 'train')\n",
    "    oldtest = pathlib.Path(olddir, 'test')\n",
    "    #read all images as files names into a varaible\n",
    "    org_testimages = list(oldtest.glob('*.jpg')) \n",
    "    org_trainimages = list(odltrain.glob('*.jpg')) \n",
    "    \n",
    "\n",
    "    #Preprocessing labels\n",
    "    data_info = pd.read_csv(data_info_path, index_col=False)\n",
    "    le = preprocessing.LabelEncoder()\n",
    "    label = data_info['name']\n",
    "    le.fit(label)\n",
    "    le_name_mapping = dict(zip(le.classes_, le.transform(le.classes_)))\n",
    "    data_info['label'] = le.transform(label)\n",
    "    #AUGMENT FOR TRAIN SET\n",
    "    for img_path in org_trainimages:\n",
    "        img = imread(img_path)        \n",
    "        #MASK\n",
    "        image_name = img.stem\n",
    "        mask_path = get_mask_path(image_name, maskdir)\n",
    "        mask = imread(mask_path)\n",
    "        #AUGMENTATION\n",
    "        augmented = augmentation(image = img, mask = mask)\n",
    "        augmented_mask = augmented['mask']\n",
    "        augmented_img = augmented['image']\n",
    "        #Process mask\n",
    "        coords  = get_bbox(augmented_mask)\n",
    "        label = get_label(data_info, img_path.name)\n",
    "        bbox = [np.insert(coord,0, label) for coord in coords]\n",
    "        #NEW DIR\n",
    "        img_newpath = pathlib.Path(newdir, image_name + '.jpg')\n",
    "        mask_newpath = pathlib.Path(maskdir, image_name + '.txt')\n",
    "        augmented_img.imwrite()\n",
    "        #save file\n",
    "        np.savetxt(mask_newpath, fmt='%d %.5f %.5f %.5f %.5f')\n",
    "        augmented_img.imwrite(img_newpath)\n",
    "        \n",
    "        \n",
    "        \n",
    "def get_label(data_info, name):\n",
    "    return data_info[data_info.file == name].name.iloc[0]\n",
    "    \n",
    "def get_mask_path(image_name, maskdir):\n",
    "    pic_png = image_name + '.png'\n",
    "    mask_path = pathlib.Path(maskdir, pic_png)\n",
    "    return mask_path\n",
    "\n",
    "def get_bbox(mask): \n",
    "    output = []\n",
    "    for prop in regionprops(skinmage_label(mask)):\n",
    "            width = mask.shape[1]\n",
    "            height = mask.shape[0]\n",
    "            x1, y1 = prop.bbox[1], prop.bbox[0]\n",
    "            x2, y2 = prop.bbox[4],prop.bbox[3]\n",
    "            x = (x1 + x2)//2\n",
    "            x = x / width\n",
    "            y = (x1 + x2)//2\n",
    "            y = y / height\n",
    "            h = y2 - y1\n",
    "            h = h / height\n",
    "            w = x2 - x1\n",
    "            w = w / width\n",
    "            seg = [x,y,h,w]\n",
    "            output.append(seg)\n",
    "    return output\n",
    "\n",
    "def save_file(pic, bbox):\n",
    "    img_path,_ = get_path(pic)\n",
    "    txt = pic[:-3] + 'txt'\n",
    "    pic_path = os.path.join(newimages_path, pic)\n",
    "    label_path = os.path.join(labels_path, txt)\n",
    "    np.savetxt(label_path, bbox,  fmt='%d %.5f %.5f %.5f %.5f')\n",
    "    shutil.copy(img_path, pic_path)"
   ]
  },
  {
   "cell_type": "code",
   "execution_count": null,
   "metadata": {},
   "outputs": [],
   "source": []
  }
 ],
 "metadata": {
  "kernelspec": {
   "display_name": "base",
   "language": "python",
   "name": "python3"
  },
  "language_info": {
   "codemirror_mode": {
    "name": "ipython",
    "version": 3
   },
   "file_extension": ".py",
   "mimetype": "text/x-python",
   "name": "python",
   "nbconvert_exporter": "python",
   "pygments_lexer": "ipython3",
   "version": "3.9.15"
  },
  "orig_nbformat": 4,
  "vscode": {
   "interpreter": {
    "hash": "07521bee647cb038a9765ea0ecd3eab4d12b5f5b9eec9493f2d4acdd5b019b2b"
   }
  }
 },
 "nbformat": 4,
 "nbformat_minor": 2
}
